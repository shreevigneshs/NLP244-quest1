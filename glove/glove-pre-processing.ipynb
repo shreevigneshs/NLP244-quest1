{
 "cells": [
  {
   "cell_type": "code",
   "execution_count": 17,
   "id": "38560260-4fa6-4c55-81ba-6efa1d009e86",
   "metadata": {},
   "outputs": [],
   "source": [
    "glove_data_root_path = \"/soe/vigneshs/projects/nlp_244/NLP244-quest1/glove\""
   ]
  },
  {
   "cell_type": "code",
   "execution_count": 5,
   "id": "134111c8-838a-4ac9-819d-8934da6a0acb",
   "metadata": {},
   "outputs": [],
   "source": [
    "import os\n",
    "from gensim.scripts.glove2word2vec import glove2word2vec\n",
    "from gensim.test.utils import datapath, get_tmpfile"
   ]
  },
  {
   "cell_type": "code",
   "execution_count": null,
   "id": "022f8070-4680-4a85-8a89-3dc0dea65419",
   "metadata": {},
   "outputs": [],
   "source": [
    "# # download glove embeddings\n",
    "# !wget https://nlp.stanford.edu/data/glove.6B.zip"
   ]
  },
  {
   "cell_type": "code",
   "execution_count": null,
   "id": "70381e3e-b16f-4467-b95f-e51c85d8ddfc",
   "metadata": {},
   "outputs": [],
   "source": [
    "# # unzip glove embeddings\n",
    "# !unzip /content/glove.6B.zip"
   ]
  },
  {
   "cell_type": "code",
   "execution_count": null,
   "id": "93931f8c-5694-478d-bfc9-ebf2ce86f6ca",
   "metadata": {},
   "outputs": [],
   "source": [
    "# convert glove embeddings into gensim format\n",
    "glove_file = datapath(os.path.join(glove_data_root_path, \"glove.6B.50d.txt\"))\n",
    "tmp_file = get_tmpfile(os.path.join(glove_data_root_path, \"glove-word2vec.6B.50d.txt\"))\n",
    "_ = glove2word2vec(glove_file, tmp_file)"
   ]
  }
 ],
 "metadata": {
  "kernelspec": {
   "display_name": "Python 3 (ipykernel)",
   "language": "python",
   "name": "python3"
  },
  "language_info": {
   "codemirror_mode": {
    "name": "ipython",
    "version": 3
   },
   "file_extension": ".py",
   "mimetype": "text/x-python",
   "name": "python",
   "nbconvert_exporter": "python",
   "pygments_lexer": "ipython3",
   "version": "3.9.12"
  }
 },
 "nbformat": 4,
 "nbformat_minor": 5
}
